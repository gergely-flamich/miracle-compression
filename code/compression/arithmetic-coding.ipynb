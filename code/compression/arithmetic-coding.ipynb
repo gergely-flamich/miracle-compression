{
 "cells": [
  {
   "cell_type": "code",
   "execution_count": 1,
   "metadata": {},
   "outputs": [],
   "source": [
    "import numpy as np\n",
    "from tqdm import tqdm_notebook as tqdm"
   ]
  },
  {
   "cell_type": "code",
   "execution_count": 2,
   "metadata": {},
   "outputs": [],
   "source": [
    "def initialize(P):\n",
    "    \"\"\"\n",
    "    Calculates the (unnormalized) CDF from P as well as its total mass\n",
    "    \n",
    "    returns - C, D, R\n",
    "    \"\"\"\n",
    "    \n",
    "    C = []\n",
    "    D = []\n",
    "    \n",
    "    c = 0\n",
    "    \n",
    "    for p in P:\n",
    "        \n",
    "        C.append(c)\n",
    "        \n",
    "        c += p\n",
    "        \n",
    "        D.append(c)\n",
    "        \n",
    "    return C, D, D[-1]"
   ]
  },
  {
   "cell_type": "code",
   "execution_count": 3,
   "metadata": {},
   "outputs": [],
   "source": [
    "def encoder(message, P, precision=32):\n",
    "    \n",
    "    # Calculate some stuff\n",
    "    C, D, R = initialize(P)\n",
    "    \n",
    "    whole = 2**precision\n",
    "    half = 2**(precision - 1)\n",
    "    quarter = 2**(precision - 2)\n",
    "    \n",
    "    low = 0\n",
    "    high = whole\n",
    "    s = 0\n",
    "    \n",
    "    code = \"\"\n",
    "    \n",
    "    for k in tqdm(range(len(message))):\n",
    "        \n",
    "        width = high - low\n",
    "        \n",
    "        # Find interval for next symbol\n",
    "        high = low + (width * D[message[k]]) // R\n",
    "        low = low + (width * C[message[k]]) // R\n",
    "        \n",
    "        # Interval subdivision\n",
    "        while high < half or low > half:\n",
    "            \n",
    "            # First case: we're in the lower half\n",
    "            if high < half:\n",
    "                code += \"0\" + \"1\" * s\n",
    "                s = 0\n",
    "                \n",
    "                # Interval rescaling\n",
    "                low *= 2\n",
    "                high *= 2\n",
    "                \n",
    "            # Second case: we're in the upper half\n",
    "            elif low > half:\n",
    "                code += \"1\" + \"0\" * s\n",
    "                s = 0\n",
    "                \n",
    "                low = (low - half) * 2\n",
    "                high = (high - half) * 2\n",
    "             \n",
    "        # Middle rescaling\n",
    "        while low > quarter and high < 3 * quarter:\n",
    "            s += 1\n",
    "            low = (low - quarter) * 2\n",
    "            high = (high - quarter) * 2\n",
    "            \n",
    "    # Final emission step\n",
    "    s += 1\n",
    "    \n",
    "    if low <= quarter:\n",
    "        code += \"0\" + \"1\" * s\n",
    "    else:\n",
    "        code += \"1\" + \"0\" * s\n",
    "    \n",
    "    return code"
   ]
  },
  {
   "cell_type": "code",
   "execution_count": 4,
   "metadata": {},
   "outputs": [],
   "source": [
    "def decoder(code, P, precision=32):\n",
    "    \n",
    "    # Calculate some stuff\n",
    "    C, D, R = initialize(P)\n",
    "    \n",
    "    whole = 2**precision\n",
    "    half = 2**(precision - 1)\n",
    "    quarter = 2**(precision - 2)\n",
    "    \n",
    "    low = 0\n",
    "    high = whole\n",
    "    \n",
    "    with tqdm(total=len(code)) as pbar:\n",
    "        # Initialize representation of binary lower bound\n",
    "        z = 0\n",
    "        i = 0\n",
    "\n",
    "        while i < precision and i < len(code):\n",
    "            if code[i] == '1':\n",
    "                z += 2**(precision - i - 1)\n",
    "            i += 1\n",
    "\n",
    "            # Update the progress bar\n",
    "            pbar.update(1)\n",
    "\n",
    "        message = []\n",
    "    \n",
    "    \n",
    "        while True:\n",
    "\n",
    "            # Find the current symbol\n",
    "            for j in range(len(C)):\n",
    "\n",
    "                width = high - low\n",
    "\n",
    "                # Find interval for next symbol\n",
    "                high_ = low + (width * D[j]) // R\n",
    "                low_ = low + (width * C[j]) // R\n",
    "\n",
    "                if low_ <= z < high_:\n",
    "\n",
    "                    # Emit the current symbol\n",
    "                    message.append(j)\n",
    "\n",
    "                    # Update bounds\n",
    "                    high = high_\n",
    "                    low = low_\n",
    "\n",
    "                    # Are we at the end?\n",
    "                    if j == 0:\n",
    "                        return message\n",
    "\n",
    "                 # Interval rescaling\n",
    "                while high < half or low > half:\n",
    "\n",
    "                    # First case: we're in the lower half\n",
    "                    if high < half:\n",
    "                        low *= 2\n",
    "                        high *= 2\n",
    "\n",
    "                        z *= 2\n",
    "\n",
    "                    # Second case: we're in the upper half\n",
    "                    elif low > half:\n",
    "                        low = (low - half) * 2\n",
    "                        high = (high - half) * 2\n",
    "\n",
    "                        z = (z - half) * 2\n",
    "\n",
    "                    # Update the precision of the lower bound\n",
    "                    if i < len(code) and code[i] == '1':\n",
    "                        z += 1\n",
    "\n",
    "                    i += 1\n",
    "                    \n",
    "                    # Update the progress bar\n",
    "                    pbar.update(1)\n",
    "\n",
    "                # Middle rescaling\n",
    "                while low > quarter and high < 3 * quarter:\n",
    "                    low = (low - quarter) * 2\n",
    "                    high = (high - quarter) * 2\n",
    "                    z = (z - quarter) * 2\n",
    "\n",
    "                    # Update the precision of the lower bound\n",
    "                    if i < len(code) and code[i] == '1':\n",
    "                        z += 1\n",
    "\n",
    "                    i += 1\n",
    "                    \n",
    "                    # Update the progress bar\n",
    "                    pbar.update(1)"
   ]
  },
  {
   "cell_type": "code",
   "execution_count": 5,
   "metadata": {},
   "outputs": [
    {
     "data": {
      "application/vnd.jupyter.widget-view+json": {
       "model_id": "6b3d86fc23ed48c1a439df032401b559",
       "version_major": 2,
       "version_minor": 0
      },
      "text/plain": [
       "HBox(children=(IntProgress(value=0, max=3), HTML(value='')))"
      ]
     },
     "metadata": {},
     "output_type": "display_data"
    },
    {
     "name": "stdout",
     "output_type": "stream",
     "text": [
      "\n",
      "101100\n"
     ]
    },
    {
     "data": {
      "application/vnd.jupyter.widget-view+json": {
       "model_id": "ba9f0930836f40d79ee6e101837f2a36",
       "version_major": 2,
       "version_minor": 0
      },
      "text/plain": [
       "HBox(children=(IntProgress(value=0, max=6), HTML(value='')))"
      ]
     },
     "metadata": {},
     "output_type": "display_data"
    },
    {
     "name": "stdout",
     "output_type": "stream",
     "text": [
      "\n",
      "[2, 1, 0]\n"
     ]
    }
   ],
   "source": [
    "P = [1, 2, 2]\n",
    "message = [2, 1, 0]\n",
    "\n",
    "code = encoder(message, P)\n",
    "\n",
    "print(code)\n",
    "\n",
    "decoded = decoder(code, P)\n",
    "\n",
    "print(decoded)"
   ]
  },
  {
   "cell_type": "code",
   "execution_count": 6,
   "metadata": {},
   "outputs": [
    {
     "data": {
      "application/vnd.jupyter.widget-view+json": {
       "model_id": "ee94286d2a1d459092fbc956ce4166a3",
       "version_major": 2,
       "version_minor": 0
      },
      "text/plain": [
       "HBox(children=(IntProgress(value=0, max=4), HTML(value='')))"
      ]
     },
     "metadata": {},
     "output_type": "display_data"
    },
    {
     "name": "stdout",
     "output_type": "stream",
     "text": [
      "\n",
      "011011000\n"
     ]
    },
    {
     "data": {
      "application/vnd.jupyter.widget-view+json": {
       "model_id": "716b91feb6e74d47a8b4c91b90fde287",
       "version_major": 2,
       "version_minor": 0
      },
      "text/plain": [
       "HBox(children=(IntProgress(value=0, max=24), HTML(value='')))"
      ]
     },
     "metadata": {},
     "output_type": "display_data"
    },
    {
     "name": "stdout",
     "output_type": "stream",
     "text": [
      "\n",
      "[2, 3, 2, 0]\n"
     ]
    }
   ],
   "source": [
    "P = [5, 5, 50, 40]\n",
    "message = [2, 3, 2, 0]\n",
    "\n",
    "code = encoder(message, P)\n",
    "\n",
    "print(code)\n",
    "\n",
    "decoded = decoder(code + \"000000101101101\", P)\n",
    "\n",
    "print(decoded)"
   ]
  },
  {
   "cell_type": "code",
   "execution_count": 7,
   "metadata": {},
   "outputs": [
    {
     "data": {
      "application/vnd.jupyter.widget-view+json": {
       "model_id": "bec78be301f344108b9f8b9ce630cdcb",
       "version_major": 2,
       "version_minor": 0
      },
      "text/plain": [
       "HBox(children=(IntProgress(value=0, max=10000), HTML(value='')))"
      ]
     },
     "metadata": {},
     "output_type": "display_data"
    },
    {
     "name": "stdout",
     "output_type": "stream",
     "text": [
      "\n"
     ]
    },
    {
     "data": {
      "application/vnd.jupyter.widget-view+json": {
       "model_id": "afffca846e5e4d0f949a03a31cbab1eb",
       "version_major": 2,
       "version_minor": 0
      },
      "text/plain": [
       "HBox(children=(IntProgress(value=0, max=103959), HTML(value='')))"
      ]
     },
     "metadata": {},
     "output_type": "display_data"
    },
    {
     "name": "stdout",
     "output_type": "stream",
     "text": [
      "\n"
     ]
    },
    {
     "data": {
      "text/plain": [
       "True"
      ]
     },
     "execution_count": 7,
     "metadata": {},
     "output_type": "execute_result"
    }
   ],
   "source": [
    "num_symbols = 2**10\n",
    "message_length = 10000\n",
    "\n",
    "P = np.ones(num_symbols + 1, dtype=np.int32)\n",
    "P[1:] = np.random.choice(1000, size=num_symbols) + 1\n",
    "\n",
    "message = np.zeros(message_length, dtype=np.int32)\n",
    "\n",
    "message[:-1] = np.random.choice(num_symbols, size=message_length - 1) + 1\n",
    "\n",
    "#print(message)\n",
    "\n",
    "code = encoder(message, P)\n",
    "decoded = decoder(code, P)\n",
    "\n",
    "np.all(message == decoded)"
   ]
  },
  {
   "cell_type": "code",
   "execution_count": 10,
   "metadata": {},
   "outputs": [],
   "source": [
    "# Pad the code\n",
    "code += \"0\" * (8 - len(code) % 8) if len(code) % 8 != 0 else \"\"\n",
    "\n",
    "message_bytes = [int('0b' + code[s:s + 8], 2) for s in range(0, len(code), 8)]\n",
    "\n",
    "with open(\"../../compression/test.miracle\", \"wb\") as compressed_file:\n",
    "    compressed_file.write(bytes(message_bytes))"
   ]
  },
  {
   "cell_type": "code",
   "execution_count": 11,
   "metadata": {},
   "outputs": [
    {
     "data": {
      "application/vnd.jupyter.widget-view+json": {
       "model_id": "7d6840a3bc654f7f9af2d55fd6e88838",
       "version_major": 2,
       "version_minor": 0
      },
      "text/plain": [
       "HBox(children=(IntProgress(value=0, max=104704), HTML(value='')))"
      ]
     },
     "metadata": {},
     "output_type": "display_data"
    },
    {
     "name": "stdout",
     "output_type": "stream",
     "text": [
      "\n"
     ]
    },
    {
     "data": {
      "text/plain": [
       "True"
      ]
     },
     "execution_count": 11,
     "metadata": {},
     "output_type": "execute_result"
    }
   ],
   "source": [
    "with open(\"../../compression/test.miracle\", \"rb\") as compressed_file:\n",
    "    compressed = ''.join([\"{:08b}\".format(x) for x in compressed_file.read()])\n",
    "    decompressed = decoder(compressed, P)\n",
    "    \n",
    "np.all(decompressed == message)"
   ]
  },
  {
   "cell_type": "code",
   "execution_count": null,
   "metadata": {},
   "outputs": [],
   "source": []
  }
 ],
 "metadata": {
  "kernelspec": {
   "display_name": "Python 3",
   "language": "python",
   "name": "python3"
  },
  "language_info": {
   "codemirror_mode": {
    "name": "ipython",
    "version": 3
   },
   "file_extension": ".py",
   "mimetype": "text/x-python",
   "name": "python",
   "nbconvert_exporter": "python",
   "pygments_lexer": "ipython3",
   "version": "3.5.2"
  }
 },
 "nbformat": 4,
 "nbformat_minor": 2
}
