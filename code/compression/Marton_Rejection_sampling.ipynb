{
 "cells": [
  {
   "cell_type": "code",
   "execution_count": 1,
   "metadata": {},
   "outputs": [],
   "source": [
    "import numpy as np\n",
    "import tensorflow as tf\n",
    "import matplotlib.pyplot as plt\n",
    "\n",
    "from tqdm import tqdm_notebook as tqdm\n",
    "\n",
    "% matplotlib inline"
   ]
  },
  {
   "cell_type": "code",
   "execution_count": 2,
   "metadata": {
    "colab": {
     "height": 279
    },
    "colab_type": "code",
    "executionInfo": {
     "elapsed": 3625,
     "status": "ok",
     "timestamp": 1561052150050,
     "user": {
      "displayName": "Marton Havasi",
      "photoUrl": "https://lh3.googleusercontent.com/-xab957NWDw0/AAAAAAAAAAI/AAAAAAAAAAc/oxkcBYiGSGw/s64/photo.jpg",
      "userId": "07881995209550579845"
     },
     "user_tz": 240
    },
    "id": "DJKt6Li-dqsp",
    "outputId": "5e3268fd-42f1-4d9c-f184-0b4d8646c333"
   },
   "outputs": [
    {
     "name": "stderr",
     "output_type": "stream",
     "text": [
      "WARNING: Logging before flag parsing goes to stderr.\n",
      "W0628 15:28:45.336045 4375299520 deprecation.py:323] From <ipython-input-2-c17ee52eb294>:3: __init__ (from tensorflow.python.ops.distributions.normal) is deprecated and will be removed after 2019-01-01.\n",
      "Instructions for updating:\n",
      "The TensorFlow Distributions library has moved to TensorFlow Probability (https://github.com/tensorflow/probability). You should update all references to use `tfp.distributions` instead of `tf.distributions`.\n",
      "W0628 15:28:45.359285 4375299520 deprecation.py:323] From /usr/local/lib/python2.7/site-packages/tensorflow/python/ops/distributions/normal.py:160: __init__ (from tensorflow.python.ops.distributions.distribution) is deprecated and will be removed after 2019-01-01.\n",
      "Instructions for updating:\n",
      "The TensorFlow Distributions library has moved to TensorFlow Probability (https://github.com/tensorflow/probability). You should update all references to use `tfp.distributions` instead of `tf.distributions`.\n"
     ]
    }
   ],
   "source": [
    "p_loc = 0.\n",
    "p_scale = 1.\n",
    "p = tf.distributions.Normal(loc=p_loc, scale=p_scale)\n",
    "\n",
    "q_loc = 0.\n",
    "q_scale = 1.\n",
    "q = tf.distributions.Normal(loc=q_loc, scale=q_scale)\n",
    "\n",
    "plot_points = np.linspace(-3., 8., 200)\n",
    "\n",
    "# plt.plot(plot_points, sess.run(p.prob(plot_points)), 'b')\n",
    "# plt.plot(plot_points, sess.run(q.prob(plot_points)), 'r')\n",
    "# plt.show()"
   ]
  },
  {
   "cell_type": "code",
   "execution_count": 56,
   "metadata": {
    "colab": {
     "height": 279
    },
    "colab_type": "code",
    "executionInfo": {
     "elapsed": 86022,
     "status": "ok",
     "timestamp": 1561052306216,
     "user": {
      "displayName": "Marton Havasi",
      "photoUrl": "https://lh3.googleusercontent.com/-xab957NWDw0/AAAAAAAAAAI/AAAAAAAAAAc/oxkcBYiGSGw/s64/photo.jpg",
      "userId": "07881995209550579845"
     },
     "user_tz": 240
    },
    "id": "u1whNDmCecTu",
    "outputId": "23130942-f6ec-4b30-a454-40ea59252c6e"
   },
   "outputs": [
    {
     "data": {
      "application/vnd.jupyter.widget-view+json": {
       "model_id": "13f710cc93b34998b7cf7c308cc5d6f2",
       "version_major": 2,
       "version_minor": 0
      },
      "text/plain": [
       "HBox(children=(IntProgress(value=0), HTML(value=u'')))"
      ]
     },
     "metadata": {},
     "output_type": "display_data"
    },
    {
     "name": "stdout",
     "output_type": "stream",
     "text": [
      "\n"
     ]
    }
   ],
   "source": [
    "tf.reset_default_graph()\n",
    "tf.random.set_random_seed(42)\n",
    "\n",
    "with tf.Session() as sess:\n",
    "\n",
    "    p_loc = 0.\n",
    "    p_scale = 1.\n",
    "    p = tf.distributions.Normal(loc=p_loc, scale=p_scale)\n",
    "\n",
    "    q_loc = 2.5\n",
    "    q_scale = 0.5\n",
    "    q = tf.distributions.Normal(loc=q_loc, scale=q_scale)\n",
    "\n",
    "    n_points = 20\n",
    "    \n",
    "    p_mass = tf.concat(([0.], [1. / (n_points-2) for _ in range(n_points-2)], [0.]), axis=0)\n",
    "    quantiles = np.linspace(0., 1., n_points+1)\n",
    "    open_sections = q.quantile(quantiles[1:-1])\n",
    "\n",
    "    p_i = tf.Variable(tf.zeros((n_points)))\n",
    "    sess.run(tf.initialize_all_variables())\n",
    "    p_star = tf.reduce_sum(p_i)\n",
    "    \n",
    "    open_cdf = p.cdf(open_sections)\n",
    "\n",
    "    cdfs = tf.concat(([0.], open_cdf, [1.]), axis=0)\n",
    "    probs = cdfs[1:] - cdfs[:-1] \n",
    "    \n",
    "    alpha_i = tf.where(p_mass - p_i < (1 - p_star) * probs, p_mass - p_i, (1 - p_star) * probs)\n",
    "    sample = p.sample()\n",
    "    bucket = tf.concat((tf.reshape(tf.where(sample < open_sections),[-1]), [n_points-1]), axis=0)[0]\n",
    "    beta = (alpha_i[bucket]) / ((1 - p_star) * probs[bucket])\n",
    "    accept = (tf.random.uniform(()) < beta)\n",
    "    update_op = [p_i.assign(p_i + alpha_i)]\n",
    "\n",
    "    rejection_samples = []\n",
    "    for i in tqdm(range(100)):\n",
    "        sess.run(tf.initialize_all_variables())\n",
    "        accepted = False\n",
    "        s = 0.\n",
    "        j = 0\n",
    "        while not accepted:\n",
    "            accepted, s = sess.run([accept, sample])\n",
    "            sess.run(update_op)\n",
    "            j += 1\n",
    "\n",
    "        rejection_samples.append(s)\n",
    "    "
   ]
  },
  {
   "cell_type": "code",
   "execution_count": 59,
   "metadata": {},
   "outputs": [
    {
     "data": {
      "image/png": "[encoded data removed]",
      "text/plain": [
       "<Figure size 432x288 with 1 Axes>"
      ]
     },
     "metadata": {
      "needs_background": "light"
     },
     "output_type": "display_data"
    }
   ],
   "source": [
    "with tf.Session() as sess:\n",
    "    plt.hist(rejection_samples, range=(-3., 8.), normed=True, bins=100)\n",
    "    plt.plot(plot_points, sess.run(q.prob(plot_points)), 'r')\n",
    "    plt.show()"
   ]
  },
  {
   "cell_type": "code",
   "execution_count": null,
   "metadata": {},
   "outputs": [],
   "source": []
  }
 ],
 "metadata": {
  "colab": {
   "name": "Rejection sampling.ipynb",
   "provenance": [],
   "version": "0.3.2"
  },
  "kernelspec": {
   "display_name": "Python 2",
   "language": "python",
   "name": "python2"
  },
  "language_info": {
   "codemirror_mode": {
    "name": "ipython",
    "version": 2
   },
   "file_extension": ".py",
   "mimetype": "text/x-python",
   "name": "python",
   "nbconvert_exporter": "python",
   "pygments_lexer": "ipython2",
   "version": "2.7.16"
  }
 },
 "nbformat": 4,
 "nbformat_minor": 1
}
