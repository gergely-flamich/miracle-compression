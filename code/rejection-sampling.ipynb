{
 "cells": [
  {
   "cell_type": "code",
   "execution_count": 1,
   "metadata": {},
   "outputs": [],
   "source": [
    "# This is needed so that python finds the utils\n",
    "import sys\n",
    "sys.path.append(\"/Users/gergelyflamich/Documents/Work/MLMI/miracle-compession/code\")\n",
    "\n",
    "# Needed for compression as the common source of randomness\n",
    "from sobol_seq import i4_sobol_generate\n",
    "import numpy as np\n",
    "from scipy.stats import norm\n",
    "\n",
    "import matplotlib.pyplot as plt\n",
    "\n",
    "from tqdm import tqdm_notebook as tqdm"
   ]
  },
  {
   "cell_type": "markdown",
   "metadata": {},
   "source": [
    "$$\n",
    "\\newcommand{\\N}{\\mathbb{N}}\n",
    "\\newcommand{\\X}{\\mathcal{X}}\n",
    "$$\n",
    "The algorithm is as follows [1]:\n",
    "\n",
    "**Rej-Sampler**$(P, Q)$\n",
    "Random Input: $\\langle x_i \\mid i \\in \\N \\rangle$ a sequence of i.i.d. samples from $Q$.\n",
    "\n",
    " 1. Initialisation \n",
    " \n",
    "    1. For each $x \\in \\X$, set $p_0(x) \\leftarrow 0$.\n",
    "    2. Set $p^*_0 \\leftarrow 0$.\n",
    "    \n",
    " 2. **For** $i \\leftarrow 1$ to $\\infty$ **do**\n",
    " \n",
    "    1. Set $\\alpha_i(x) \\leftarrow \\min\\{P(x) - p_{i-1}(x), (1 - p^*_{i-1})Q(x) \\} \\quad \\forall x \\in \\X$.\n",
    "    2. Set $p_i(x) \\leftarrow p_{i - 1}(x) + \\alpha_i(x) \\quad \\forall x \\in \\X$.\n",
    "    3. Set $p_i^* \\leftarrow \\sum_{x \\in \\X} p_i(x)$\n",
    "    4. Set $\\beta_i(x_i) \\leftarrow \\frac{\\alpha_i(x)}{(1 - p^*_{i-1})Q(x)}$\n",
    "    5. Sample $u \\leftarrow \\mathrm{Uniform}(0, 1)$\n",
    "    6. **If** $u < \\beta_i(x_i)$ **then**\n",
    "    \n",
    "        **return** $i, x_i$"
   ]
  },
  {
   "cell_type": "code",
   "execution_count": 2,
   "metadata": {},
   "outputs": [],
   "source": [
    "def rejection_sampler(P, Q, seed, failure_threshold=1000):\n",
    "    \"\"\"\n",
    "    P, Q - lists of positive reals that sum to one\n",
    "    \"\"\"\n",
    "    \n",
    "    np.random.seed(seed)\n",
    "    \n",
    "    n = len(P)\n",
    "    \n",
    "    # Initialisation\n",
    "    alpha = [0] * n\n",
    "    p = [0] * n\n",
    "    p_star = 0\n",
    "    \n",
    "    # Rejection sampling loop\n",
    "    for i in range(failure_threshold):\n",
    "        \n",
    "        p_star_ = 0\n",
    "        \n",
    "        # Step 2.A and 2.B\n",
    "        for x in range(n):\n",
    "            alpha[x] = np.minimum(P[x] - p[x], (1 - p_star) * Q[x])\n",
    "            p[x] = p[x] + alpha[x]\n",
    "            p_star_ += p[x]\n",
    "            \n",
    "        \n",
    "        # Step 2.D and Step 2.C - we exchange these so that we don't need to keep\n",
    "        # both p_star_i and p_star_{i - 1} around\n",
    "        x_i = np.random.choice(n, None, p=Q)\n",
    "        beta_i = alpha[x_i] / ((1 - p_star) * Q[x_i])\n",
    "        \n",
    "        p_star = p_star_\n",
    "        \n",
    "        # Step 2.E\n",
    "        u = np.random.uniform()\n",
    "        \n",
    "        # Step 2.F\n",
    "        if u < beta_i:\n",
    "            return i, x_i\n",
    "        \n",
    "    return None\n",
    "\n",
    "def kl_divergence(P, Q):\n",
    "    return np.sum(P * (np.log(P) - np.log(Q)))\n",
    "        "
   ]
  },
  {
   "cell_type": "code",
   "execution_count": 3,
   "metadata": {},
   "outputs": [
    {
     "data": {
      "application/vnd.jupyter.widget-view+json": {
       "model_id": "decbe861ea4e4034afbc862ffd1aaf46",
       "version_major": 2,
       "version_minor": 0
      },
      "text/plain": [
       "HBox(children=(IntProgress(value=0, max=1000), HTML(value='')))"
      ]
     },
     "metadata": {},
     "output_type": "display_data"
    },
    {
     "name": "stdout",
     "output_type": "stream",
     "text": [
      "\n"
     ]
    }
   ],
   "source": [
    "np.random.seed(42)\n",
    "\n",
    "P = np.random.uniform(size=20)\n",
    "P = P / np.sum(P)\n",
    "\n",
    "Q = np.ones(len(P)) / len(P)\n",
    "\n",
    "samples = []\n",
    "mass = np.zeros(len(P))\n",
    "\n",
    "for j in tqdm(range(50, 1050)):\n",
    "    sample = rejection_sampler(P=P, Q=Q, seed=j, failure_threshold=1000)\n",
    "    samples.append(sample)\n",
    "    \n",
    "    i, x_i = sample\n",
    "    \n",
    "    mass[x_i] += 1\n",
    "    \n",
    "mass = mass / np.sum(mass)"
   ]
  },
  {
   "cell_type": "code",
   "execution_count": 4,
   "metadata": {},
   "outputs": [
    {
     "data": {
      "image/png": "[encoded data removed]",
      "text/plain": [
       "<Figure size 1224x576 with 3 Axes>"
      ]
     },
     "metadata": {
      "needs_background": "light"
     },
     "output_type": "display_data"
    },
    {
     "name": "stdout",
     "output_type": "stream",
     "text": [
      "KL divergence between P and Q: 0.235\n"
     ]
    }
   ],
   "source": [
    "plt.figure(figsize=(17, 8))\n",
    "plt.subplot(131)\n",
    "plt.bar(np.arange(len(P)), P)\n",
    "plt.ylim([0, 0.15])\n",
    "plt.xlim([-0.5, 19.5])\n",
    "plt.xticks([])\n",
    "plt.title(\"Actual (P)\")\n",
    "\n",
    "plt.subplot(132)\n",
    "plt.bar(np.arange(len(P)), Q)\n",
    "plt.ylim([0, 0.15])\n",
    "plt.xlim([-0.5, 19.5])\n",
    "plt.xticks([])\n",
    "plt.title(\"Proposal (Q)\")\n",
    "\n",
    "plt.subplot(133)\n",
    "plt.bar(np.arange(len(P)), mass)\n",
    "plt.ylim([0, 0.15])\n",
    "plt.xlim([-0.5, 19.5])\n",
    "plt.xticks([])\n",
    "plt.title(\"Empirical (given by Rej-Sampler)\")\n",
    "\n",
    "plt.show()\n",
    "\n",
    "print(\"KL divergence between P and Q: {:.3f}\".format(kl_divergence(P, Q)))"
   ]
  },
  {
   "cell_type": "code",
   "execution_count": 5,
   "metadata": {},
   "outputs": [
    {
     "name": "stdout",
     "output_type": "stream",
     "text": [
      "1.0000000000000002\n"
     ]
    },
    {
     "data": {
      "text/plain": [
       "6.2412468536893195"
      ]
     },
     "execution_count": 5,
     "metadata": {},
     "output_type": "execute_result"
    },
    {
     "data": {
      "image/png": "[encoded data removed]",
      "text/plain": [
       "<Figure size 432x288 with 1 Axes>"
      ]
     },
     "metadata": {
      "needs_background": "light"
     },
     "output_type": "display_data"
    }
   ],
   "source": [
    "delta = 2e-2\n",
    "b = 2\n",
    "mu = 3\n",
    "\n",
    "def laplace_pdf(x, mu, b): \n",
    "    return 1. / (2 * b) * np.exp(-np.abs(x - mu) / b)\n",
    "\n",
    "def laplace_cdf(x, mu, b):\n",
    "    ind = (x > mu).astype(np.float32)\n",
    "    \n",
    "    return (1 - ind) * (0.5 * np.exp(-(mu - x) / b)) + ind * (1 - 0.5 * np.exp(-(x - mu) / b))\n",
    "\n",
    "def laplace_quantile(p, loc, scale):\n",
    "    \n",
    "    return loc - scale * np.sign(p - 0.5) * np.log(1 - 2 * np.abs(p - 0.5))\n",
    "    \n",
    "def pos_bin_edge(a, delta, mu, b):    \n",
    "    return mu - b * np.log(1 - 2 * a * delta)\n",
    "\n",
    "def neg_bin_edge(a, delta, mu, b):    \n",
    "    return mu + b * np.log(1 - 2 * a * delta)\n",
    "    \n",
    "num_bins = (np.floor(1 / delta) + 1) // 2\n",
    "\n",
    "pos_bin_edges = pos_bin_edge(np.arange(num_bins) + 0.5, delta, mu, b)\n",
    "neg_bin_edges = neg_bin_edge(np.arange(num_bins) + 0.5, delta, mu, b)\n",
    "\n",
    "bin_edges = np.concatenate((neg_bin_edges[::-1], pos_bin_edges))\n",
    "\n",
    "widths = bin_edges[1:] - bin_edges[:-1]\n",
    "widths = np.concatenate((100 * np.ones((1,)), widths, 100 * np.ones((1,))))\n",
    "\n",
    "bin_edges = np.concatenate((bin_edges[:1] - 100, bin_edges))\n",
    "\n",
    "heights = delta / widths\n",
    "\n",
    "heights[0] /= 2\n",
    "heights[-1] /= 2\n",
    "\n",
    "xs = np.linspace(-30, 40, 1000)\n",
    "\n",
    "plt.plot(xs,\n",
    "         laplace_pdf(xs, mu, b),\n",
    "         color='k')\n",
    "\n",
    "plt.bar(x=bin_edges, \n",
    "        height=heights,\n",
    "        width=widths,\n",
    "        align=\"edge\",\n",
    "        alpha=0.3,\n",
    "        color='r',\n",
    "        edgecolor='b')\n",
    "\n",
    "plt.xlim([-20, 30])\n",
    "\n",
    "print(np.sum(widths*heights))\n",
    "\n",
    "np.sum(heights)"
   ]
  },
  {
   "cell_type": "code",
   "execution_count": 6,
   "metadata": {},
   "outputs": [
    {
     "name": "stdout",
     "output_type": "stream",
     "text": [
      "\n",
      "WARNING: The TensorFlow contrib module will not be included in TensorFlow 2.0.\n",
      "For more information, please see:\n",
      "  * https://github.com/tensorflow/community/blob/master/rfcs/20180907-contrib-sunset.md\n",
      "  * https://github.com/tensorflow/addons\n",
      "If you depend on functionality not listed there, please file an issue.\n",
      "\n"
     ]
    }
   ],
   "source": [
    "import tensorflow as tf\n",
    "import tensorflow_probability as tfp\n",
    "tfd = tfp.distributions\n",
    "\n",
    "tf.enable_eager_execution()"
   ]
  },
  {
   "cell_type": "code",
   "execution_count": 7,
   "metadata": {},
   "outputs": [
    {
     "data": {
      "image/png": "[encoded data removed]",
      "text/plain": [
       "<Figure size 1224x432 with 2 Axes>"
      ]
     },
     "metadata": {
      "needs_background": "light"
     },
     "output_type": "display_data"
    }
   ],
   "source": [
    "prior = tfd.Laplace(loc=0., scale=1.)\n",
    "posterior = tfd.Laplace(loc=2., scale=3.)\n",
    "\n",
    "tf.random.set_random_seed(42)\n",
    "\n",
    "xs = np.linspace(-20, 20, 200)\n",
    "ys = np.linspace(0.001, 0.999, 100)\n",
    "\n",
    "plt.figure(figsize=(17, 6))\n",
    "\n",
    "plt.subplot(121)\n",
    "plt.plot(xs, prior.prob(xs))\n",
    "plt.plot(xs, posterior.prob(xs))\n",
    "\n",
    "plt.subplot(122)\n",
    "plt.plot(ys, laplace_quantile(ys, 2., 3.))\n",
    "\n",
    "plt.show()"
   ]
  },
  {
   "cell_type": "code",
   "execution_count": 8,
   "metadata": {},
   "outputs": [],
   "source": [
    "def create_bins_and_masses(dist, quantile_fn, delta, tail_length=100.):\n",
    "    num_edges = int(np.floor(1. / delta) + 1)\n",
    "\n",
    "    percentages = np.arange(0., 1., delta) + delta / 2\n",
    "    \n",
    "    edges = quantile_fn(percentages, loc=dist.loc, scale=dist.scale)\n",
    "    \n",
    "    widths = tail_length * np.ones((num_edges,))\n",
    "    widths[1:-1] = edges[1:] - edges[:-1]\n",
    "    \n",
    "    mass = delta / widths\n",
    "    \n",
    "    mass /= np.sum(mass)\n",
    "    \n",
    "    return edges, mass\n",
    "\n",
    "def get_prior_mass_correspondance(posterior_bins, prior):\n",
    "    \n",
    "    prior_mass = np.zeros((len(posterior_bins) + 1,))\n",
    "    \n",
    "    prior_mass[0] = prior.cdf(posterior_bins[0])\n",
    "    prior_mass[1:-1] = prior.cdf(posterior_bins[1:]) - prior.cdf(posterior_bins[:-1])\n",
    "    prior_mass[-1] = 1 - np.sum(prior_mass)\n",
    "    \n",
    "    return prior_mass\n",
    "    \n",
    "def get_bin(x, bins):\n",
    "    \n",
    "    for idx, b in enumerate(bins):\n",
    "        if x < b: return idx\n",
    "    else:\n",
    "        idx = len(bins)\n",
    "        \n",
    "    return idx"
   ]
  },
  {
   "cell_type": "code",
   "execution_count": 9,
   "metadata": {},
   "outputs": [],
   "source": [
    "def rejection_sampler_cts(P, P_bins, Q, Q_dist, seed, failure_threshold=1000):\n",
    "    \"\"\"\n",
    "    \"\"\"\n",
    "    \n",
    "    np.random.seed(seed)\n",
    "    tf.random.set_random_seed(seed)\n",
    "    \n",
    "    n = len(P)\n",
    "    \n",
    "    # Initialisation\n",
    "    alpha = [0] * n\n",
    "    p = [0] * n\n",
    "    p_star = 0\n",
    "    \n",
    "    # Rejection sampling loop\n",
    "    for i in range(failure_threshold):\n",
    "        \n",
    "        p_star_ = 0\n",
    "        \n",
    "        # Step 2.A and 2.B\n",
    "        for x in range(n):\n",
    "            alpha[x] = np.minimum(P[x] - p[x], (1 - p_star) * Q[x])\n",
    "            p[x] = p[x] + alpha[x]\n",
    "            p_star_ += p[x]\n",
    "        \n",
    "        # Step 2.D and Step 2.C - we exchange these so that we don't need to keep\n",
    "        # both p_star_i and p_star_{i - 1} around\n",
    "        # Note: the differences compared to the finite case is that\n",
    "        # we use Q's custom sampler and we get the corresponding bin of the sample\n",
    "        # in the quantized distribution\n",
    "        x_i = Q_dist.sample()\n",
    "        x_i_P_bin = get_bin(x_i, P_bins)\n",
    "        \n",
    "        beta_i = alpha[x_i_P_bin] / ((1 - p_star) * Q[x_i_P_bin])\n",
    "        \n",
    "        p_star = p_star_\n",
    "        \n",
    "        # Step 2.E\n",
    "        u = np.random.uniform()\n",
    "        \n",
    "        # Step 2.F\n",
    "        if u < beta_i:\n",
    "            return i, x_i, x_i_P_bin\n",
    "        \n",
    "    return None"
   ]
  },
  {
   "cell_type": "code",
   "execution_count": 10,
   "metadata": {},
   "outputs": [
    {
     "data": {
      "application/vnd.jupyter.widget-view+json": {
       "model_id": "4996ed9f8fbc4b62889e68f30e970b58",
       "version_major": 2,
       "version_minor": 0
      },
      "text/plain": [
       "HBox(children=(IntProgress(value=0, max=5000), HTML(value='')))"
      ]
     },
     "metadata": {},
     "output_type": "display_data"
    },
    {
     "name": "stdout",
     "output_type": "stream",
     "text": [
      "\n",
      "Min: 0 \n",
      "First Quartile: 0.0\n",
      "Median: 1.0\n",
      "Third Quartile: 7.0\n",
      "Max:199\n",
      "Outliers below first quartile: 0\n",
      "Outliers above third quartile: 1229\n"
     ]
    },
    {
     "data": {
      "image/png": "[encoded data removed]",
      "text/plain": [
       "<Figure size 1224x432 with 1 Axes>"
      ]
     },
     "metadata": {
      "needs_background": "light"
     },
     "output_type": "display_data"
    }
   ],
   "source": [
    "prior = tfd.Laplace(loc=0., scale=1.)\n",
    "posterior = tfd.Laplace(loc=2., scale=3.)\n",
    "\n",
    "P_bin, P = create_bins_and_masses(posterior, laplace_quantile, 1e-2)\n",
    "Q = get_prior_mass_correspondance(P_bin, prior)\n",
    "\n",
    "samples = []\n",
    "mass = np.zeros(len(P))\n",
    "\n",
    "num_samples = 5000\n",
    "\n",
    "seed = 50\n",
    "for j in tqdm(range(num_samples)):\n",
    "    \n",
    "    sample = None\n",
    "    \n",
    "    while sample is None:\n",
    "        sample = rejection_sampler_cts(P, P_bin, Q, prior, seed=seed, failure_threshold=200)\n",
    "        seed += 1\n",
    "        \n",
    "    samples.append(sample)\n",
    "    \n",
    "    i, x_i, bin_idx = sample\n",
    "    \n",
    "    mass[bin_idx] += 1\n",
    "    \n",
    "mass = mass / np.sum(mass)\n",
    "\n",
    "indices, samps, bin_indices = zip(*samples)\n",
    "indices = np.array(indices)\n",
    "\n",
    "quarters = np.percentile(indices, [25, 50, 75])\n",
    "min_idx, max_idx = np.min(indices), np.max(indices)\n",
    "\n",
    "print(\"Min: {} \\nFirst Quartile: {}\\nMedian: {}\\nThird Quartile: {}\\nMax:{}\".format(min_idx, \n",
    "                                                                                    quarters[0], \n",
    "                                                                                    quarters[1], \n",
    "                                                                                    quarters[2], \n",
    "                                                                                    max_idx))\n",
    "\n",
    "print(\"Outliers below first quartile: {}\\nOutliers above third quartile: {}\".format(np.sum(indices < quarters[0]),\n",
    "                                                                                    np.sum(indices > quarters[2])))\n",
    "plt.figure(figsize=(17, 6))\n",
    "plt.hist(indices, bins=50)\n",
    "plt.show()"
   ]
  },
  {
   "cell_type": "code",
   "execution_count": 11,
   "metadata": {},
   "outputs": [
    {
     "data": {
      "application/vnd.jupyter.widget-view+json": {
       "model_id": "a15c50c100e84cc2b0729918abd77b45",
       "version_major": 2,
       "version_minor": 0
      },
      "text/plain": [
       "HBox(children=(IntProgress(value=0, max=5000), HTML(value='')))"
      ]
     },
     "metadata": {},
     "output_type": "display_data"
    },
    {
     "name": "stdout",
     "output_type": "stream",
     "text": [
      "\n",
      "5000 of 5000 samples accepted\n",
      "Min: 0 \n",
      "First Quartile: 0.0\n",
      "Median: 0.0\n",
      "Third Quartile: 4.0\n",
      "Max:199\n",
      "Outliers below first quartile: 0\n",
      "Outliers above third quartile: 1214\n"
     ]
    },
    {
     "data": {
      "image/png": "[encoded data removed]",
      "text/plain": [
       "<Figure size 1224x432 with 1 Axes>"
      ]
     },
     "metadata": {
      "needs_background": "light"
     },
     "output_type": "display_data"
    }
   ],
   "source": [
    "prior = tfd.Normal(loc=0., scale=1.)\n",
    "posterior = tfd.Normal(loc=2., scale=3.)\n",
    "\n",
    "P_bin, P = create_bins_and_masses(posterior, norm.ppf, 1e-2)\n",
    "Q = get_prior_mass_correspondance(P_bin, prior)\n",
    "\n",
    "samples_ = []\n",
    "mass = np.zeros(len(P))\n",
    "\n",
    "num_samples = 5000\n",
    "\n",
    "seed = 50\n",
    "for j in tqdm(range(num_samples)):\n",
    "    \n",
    "    sample = None\n",
    "    \n",
    "    while sample is None:\n",
    "        sample = rejection_sampler_cts(P, P_bin, Q, prior, seed=seed, failure_threshold=200)\n",
    "        seed += 1\n",
    "        \n",
    "    samples_.append(sample)\n",
    "    \n",
    "    i, x_i, bin_idx = sample\n",
    "    \n",
    "    mass[bin_idx] += 1\n",
    "    \n",
    "mass = mass / np.sum(mass)\n",
    "\n",
    "print(\"{} of {} samples accepted\".format(len(samples_), num_samples))\n",
    "\n",
    "indices, samps_, bin_indices = zip(*samples_)\n",
    "indices = np.array(indices)\n",
    "\n",
    "quarters = np.percentile(indices, [25, 50, 75])\n",
    "min_idx, max_idx = np.min(indices), np.max(indices)\n",
    "\n",
    "print(\"Min: {} \\nFirst Quartile: {}\\nMedian: {}\\nThird Quartile: {}\\nMax:{}\".format(min_idx, \n",
    "                                                                                    quarters[0], \n",
    "                                                                                    quarters[1], \n",
    "                                                                                    quarters[2], \n",
    "                                                                                    max_idx))\n",
    "\n",
    "print(\"Outliers below first quartile: {}\\nOutliers above third quartile: {}\".format(np.sum(indices < quarters[0]),\n",
    "                                                                                    np.sum(indices > quarters[2])))\n",
    "plt.figure(figsize=(17, 6))\n",
    "plt.hist(indices, bins=50)\n",
    "plt.show()"
   ]
  },
  {
   "cell_type": "code",
   "execution_count": 12,
   "metadata": {},
   "outputs": [
    {
     "data": {
      "image/png": "[encoded data removed]",
      "text/plain": [
       "<Figure size 1224x432 with 2 Axes>"
      ]
     },
     "metadata": {
      "needs_background": "light"
     },
     "output_type": "display_data"
    }
   ],
   "source": [
    "posterior1 = tfd.Laplace(loc=2., scale=3.)\n",
    "posterior2 = tfd.Normal(loc=2., scale=3.)\n",
    "\n",
    "plt.figure(figsize=(17, 6))\n",
    "plt.subplot(121)\n",
    "plt.hist(samps, bins=100, density=True)\n",
    "plt.plot(xs, posterior1.prob(xs))\n",
    "plt.xlim([-20, 30])\n",
    "\n",
    "plt.subplot(122)\n",
    "plt.hist(samps_, bins=100, density=True)\n",
    "plt.plot(xs, posterior2.prob(xs))\n",
    "plt.xlim([-20, 30])\n",
    "plt.show()"
   ]
  },
  {
   "cell_type": "markdown",
   "metadata": {},
   "source": [
    "References:\n",
    "\n",
    "[1] Communication Cost of Correlation"
   ]
  }
 ],
 "metadata": {
  "kernelspec": {
   "display_name": "Python 3",
   "language": "python",
   "name": "python3"
  },
  "language_info": {
   "codemirror_mode": {
    "name": "ipython",
    "version": 3
   },
   "file_extension": ".py",
   "mimetype": "text/x-python",
   "name": "python",
   "nbconvert_exporter": "python",
   "pygments_lexer": "ipython3",
   "version": "3.7.1"
  }
 },
 "nbformat": 4,
 "nbformat_minor": 2
}
