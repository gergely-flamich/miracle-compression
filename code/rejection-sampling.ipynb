{
 "cells": [
  {
   "cell_type": "code",
   "execution_count": 64,
   "metadata": {},
   "outputs": [],
   "source": [
    "# This is needed so that python finds the utils\n",
    "import sys\n",
    "sys.path.append(\"/Users/gergelyflamich/Documents/Work/MLMI/miracle-compession/code\")\n",
    "\n",
    "# Needed for compression as the common source of randomness\n",
    "from sobol_seq import i4_sobol_generate\n",
    "import numpy as np\n",
    "from scipy.stats import norm\n",
    "\n",
    "import matplotlib.pyplot as plt\n",
    "\n",
    "from tqdm import tqdm_notebook as tqdm"
   ]
  },
  {
   "cell_type": "markdown",
   "metadata": {},
   "source": [
    "$$\n",
    "\\newcommand{\\N}{\\mathbb{N}}\n",
    "\\newcommand{\\X}{\\mathcal{X}}\n",
    "$$\n",
    "The algorithm is as follows [1]:\n",
    "\n",
    "**Rej-Sampler**$(P, Q)$\n",
    "Random Input: $\\langle x_i \\mid i \\in \\N \\rangle$ a sequence of i.i.d. samples from $Q$.\n",
    "\n",
    " 1. Initialisation \n",
    " \n",
    "    1. For each $x \\in \\X$, set $p_0(x) \\leftarrow 0$.\n",
    "    2. Set $p^*_0 \\leftarrow 0$.\n",
    "    \n",
    " 2. **For** $i \\leftarrow 1$ to $\\infty$ **do**\n",
    " \n",
    "    1. Set $\\alpha_i(x) \\leftarrow \\min\\{P(x) - p_{i-1}(x), (1 - p^*_{i-1})Q(x) \\} \\quad \\forall x \\in \\X$.\n",
    "    2. Set $p_i(x) \\leftarrow p_{i - 1}(x) + \\alpha_i(x) \\quad \\forall x \\in \\X$.\n",
    "    3. Set $p_i^* \\leftarrow \\sum_{x \\in \\X} p_i(x)$\n",
    "    4. Set $\\beta_i(x_i) \\leftarrow \\frac{\\alpha_i(x)}{(1 - p^*_{i-1})Q(x)}$\n",
    "    5. Sample $u \\leftarrow \\mathrm{Uniform}(0, 1)$\n",
    "    6. **If** $u < \\beta_i(x_i)$ **then**\n",
    "    \n",
    "        **return** $i, x_i$"
   ]
  },
  {
   "cell_type": "code",
   "execution_count": 116,
   "metadata": {},
   "outputs": [],
   "source": [
    "def rejection_sampler(P, Q, seed, failure_threshold=1000):\n",
    "    \"\"\"\n",
    "    P, Q - lists of positive reals that sum to one\n",
    "    \"\"\"\n",
    "    \n",
    "    np.random.seed(seed)\n",
    "    \n",
    "    n = len(P)\n",
    "    \n",
    "    # Initialisation\n",
    "    alpha = [0] * n\n",
    "    p = [0] * n\n",
    "    p_star = 0\n",
    "    \n",
    "    # Rejection sampling loop\n",
    "    for i in range(failure_threshold):\n",
    "        \n",
    "        p_star_ = 0\n",
    "        \n",
    "        # Step 2.A and 2.B\n",
    "        for x in range(n):\n",
    "            alpha[x] = np.minimum(P[x] - p[x], (1 - p_star) * Q[x])\n",
    "            p[x] = p[x] + alpha[x]\n",
    "            p_star_ += p[x]\n",
    "            \n",
    "        \n",
    "        # Step 2.D and Step 2.C - we exchange these so that we don't need to keep\n",
    "        # both p_star_i and p_star_{i - 1} around\n",
    "        x_i = np.random.choice(n, None, p=Q)\n",
    "        beta_i = alpha[x_i] / ((1 - p_star) * Q[x_i])\n",
    "        \n",
    "        p_star = p_star_\n",
    "        \n",
    "        # Step 2.E\n",
    "        u = np.random.uniform()\n",
    "        \n",
    "        # Step 2.F\n",
    "        if u < beta_i:\n",
    "            return i, x_i\n",
    "        \n",
    "    return None\n",
    "\n",
    "def kl_divergence(P, Q):\n",
    "    return np.sum(P * (np.log(P) - np.log(Q)))\n",
    "        "
   ]
  },
  {
   "cell_type": "code",
   "execution_count": 117,
   "metadata": {},
   "outputs": [
    {
     "data": {
      "application/vnd.jupyter.widget-view+json": {
       "model_id": "fc93c74840394ed89f78e7885eb58e75",
       "version_major": 2,
       "version_minor": 0
      },
      "text/plain": [
       "HBox(children=(IntProgress(value=0, max=1000), HTML(value='')))"
      ]
     },
     "metadata": {},
     "output_type": "display_data"
    },
    {
     "name": "stdout",
     "output_type": "stream",
     "text": [
      "\n"
     ]
    }
   ],
   "source": [
    "samples = []\n",
    "mass = np.zeros(len(P))\n",
    "\n",
    "for j in tqdm(range(50, 1050)):\n",
    "    sample = rejection_sampler(P=P, Q=Q, seed=j, failure_threshold=1000)\n",
    "    samples.append(sample)\n",
    "    \n",
    "    i, x_i = sample\n",
    "    \n",
    "    mass[x_i] += 1\n",
    "    \n",
    "mass = mass / np.sum(mass)"
   ]
  },
  {
   "cell_type": "code",
   "execution_count": 124,
   "metadata": {},
   "outputs": [
    {
     "data": {
      "image/png": "[encoded data removed]",
      "text/plain": [
       "<Figure size 1224x576 with 3 Axes>"
      ]
     },
     "metadata": {
      "needs_background": "light"
     },
     "output_type": "display_data"
    },
    {
     "name": "stdout",
     "output_type": "stream",
     "text": [
      "KL divergence between P and Q: 0.235\n"
     ]
    }
   ],
   "source": [
    "np.random.seed(42)\n",
    "\n",
    "P = np.random.uniform(size=20)\n",
    "P = P / np.sum(P)\n",
    "\n",
    "Q = np.ones(len(P)) / len(P)\n",
    "\n",
    "plt.figure(figsize=(17, 8))\n",
    "plt.subplot(131)\n",
    "plt.bar(np.arange(len(P)), P)\n",
    "plt.ylim([0, 0.15])\n",
    "plt.xlim([-0.5, 19.5])\n",
    "plt.xticks([])\n",
    "plt.title(\"Actual (P)\")\n",
    "\n",
    "plt.subplot(132)\n",
    "plt.bar(np.arange(len(P)), Q)\n",
    "plt.ylim([0, 0.15])\n",
    "plt.xlim([-0.5, 19.5])\n",
    "plt.xticks([])\n",
    "plt.title(\"Proposal (Q)\")\n",
    "\n",
    "plt.subplot(133)\n",
    "plt.bar(np.arange(len(P)), mass)\n",
    "plt.ylim([0, 0.15])\n",
    "plt.xlim([-0.5, 19.5])\n",
    "plt.xticks([])\n",
    "plt.title(\"Empirical (given by Rej-Sampler)\")\n",
    "\n",
    "plt.show()\n",
    "\n",
    "print(\"KL divergence between P and Q: {:.3f}\".format(kl_divergence(P, Q)))"
   ]
  },
  {
   "cell_type": "markdown",
   "metadata": {},
   "source": [
    "References:\n",
    "\n",
    "[1] Communication Cost of Correlation"
   ]
  }
 ],
 "metadata": {
  "kernelspec": {
   "display_name": "Python 3",
   "language": "python",
   "name": "python3"
  },
  "language_info": {
   "codemirror_mode": {
    "name": "ipython",
    "version": 3
   },
   "file_extension": ".py",
   "mimetype": "text/x-python",
   "name": "python",
   "nbconvert_exporter": "python",
   "pygments_lexer": "ipython3",
   "version": "3.7.1"
  }
 },
 "nbformat": 4,
 "nbformat_minor": 2
}
