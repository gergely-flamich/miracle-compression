{
 "cells": [
  {
   "cell_type": "code",
   "execution_count": 1,
   "metadata": {},
   "outputs": [
    {
     "name": "stdout",
     "output_type": "stream",
     "text": [
      "\n",
      "WARNING: The TensorFlow contrib module will not be included in TensorFlow 2.0.\n",
      "For more information, please see:\n",
      "  * https://github.com/tensorflow/community/blob/master/rfcs/20180907-contrib-sunset.md\n",
      "  * https://github.com/tensorflow/addons\n",
      "If you depend on functionality not listed there, please file an issue.\n",
      "\n"
     ]
    }
   ],
   "source": [
    "import os\n",
    "import json\n",
    "from tqdm import tqdm\n",
    "import matplotlib.pyplot as plt\n",
    "\n",
    "# Needed for compression as the common source of randomness\n",
    "from sobol_seq import i4_sobol_generate\n",
    "import numpy as np\n",
    "from scipy.stats import norm\n",
    "\n",
    "import tensorflow as tf\n",
    "import tensorflow_probability as tfp\n",
    "tfd = tfp.distributions\n",
    "tf.enable_eager_execution()\n",
    "\n",
    "tfe = tf.contrib.eager\n",
    "tfs = tf.contrib.summary\n",
    "tfs_logger = tfs.record_summaries_every_n_global_steps\n",
    "\n",
    "from mnist_vae import MnistVAE\n",
    "from mnist_experiment import mnist_input_fn, mnist_binary_parse_fn\n",
    "from utils import is_valid_file, setup_eager_checkpoints_and_restore\n",
    "\n",
    "MNIST_MODEL_DIR = \"/tmp/miracle_mnist/\""
   ]
  },
  {
   "cell_type": "code",
   "execution_count": 2,
   "metadata": {},
   "outputs": [
    {
     "name": "stdout",
     "output_type": "stream",
     "text": [
      "WARNING:tensorflow:From /Users/gergelyflamich/Documents/Work/MLMI/miracle-compession/miracle_venv/lib/python3.7/site-packages/tensorflow/python/ops/resource_variable_ops.py:642: colocate_with (from tensorflow.python.framework.ops) is deprecated and will be removed in a future version.\n",
      "Instructions for updating:\n",
      "Colocations handled automatically by placer.\n",
      "Checkpoint found at /tmp/miracle_mnist/checkpoints/_ckpt-40, restoring...\n",
      "Model restored!\n"
     ]
    }
   ],
   "source": [
    "optimizers = {\n",
    "    \"sgd\": tf.train.GradientDescentOptimizer,\n",
    "    \"momentum\": lambda lr:\n",
    "                    tf.train.MomentumOptimizer(learning_rate=lr,\n",
    "                                               momentum=0.9,\n",
    "                                               use_nesterov=True),\n",
    "    \"adam\": tf.train.AdamOptimizer,\n",
    "    \"rmsprop\": tf.train.RMSPropOptimizer\n",
    "}\n",
    "\n",
    "config = {\n",
    "        \"training_set_size\": 60000,\n",
    "        \"max_pixel_value\": 1.,\n",
    "\n",
    "        \"num_latents\": 10,\n",
    "        \"hidden_units\": 100,\n",
    "        \"data_likelihood\": \"bernoulli\",\n",
    "\n",
    "        \"batch_size\": 128,\n",
    "        \"num_epochs\": 20,\n",
    "\n",
    "        \"loss\": \"neg_elbo\",\n",
    "        \"beta\": 10.,\n",
    "        \"learning_rate\": 1e-3,\n",
    "        \"optimizer\": \"adam\",\n",
    "\n",
    "        \"log_freq\": 250,\n",
    "        \"checkpoint_name\": \"_ckpt\",\n",
    "    }\n",
    "\n",
    "num_batches = config[\"training_set_size\"] // config[\"batch_size\"]\n",
    "\n",
    "((train_data, _),\n",
    "(test_data, _)) = tf.keras.datasets.mnist.load_data()\n",
    "\n",
    "train_dataset = mnist_input_fn(train_data[:num_batches * config[\"batch_size\"]],\n",
    "                               batch_size=config[\"batch_size\"])\n",
    "\n",
    "# ==========================================================================\n",
    "# Create VAE model\n",
    "# ==========================================================================\n",
    "\n",
    "vae = MnistVAE(hidden_units=config[\"hidden_units\"],\n",
    "               num_latents=config[\"num_latents\"],\n",
    "               data_likelihood=config[\"data_likelihood\"])\n",
    "\n",
    "# Connect the model computational graph by executing a forward-pass\n",
    "vae(tf.zeros((1, 28, 28)));\n",
    "\n",
    "optimizer = optimizers[config[\"optimizer\"]](config[\"learning_rate\"])\n",
    "\n",
    "# ==========================================================================\n",
    "# Define Checkpoints\n",
    "# ==========================================================================\n",
    "\n",
    "global_step = tf.train.get_or_create_global_step()\n",
    "\n",
    "trainable_vars = vae.get_all_variables() + (global_step,)\n",
    "checkpoint_dir = os.path.join(MNIST_MODEL_DIR, \"checkpoints\")\n",
    "\n",
    "checkpoint, ckpt_prefix = setup_eager_checkpoints_and_restore(\n",
    "    variables=trainable_vars,\n",
    "    checkpoint_dir=checkpoint_dir,\n",
    "    checkpoint_name=config[\"checkpoint_name\"])"
   ]
  },
  {
   "cell_type": "code",
   "execution_count": 7,
   "metadata": {},
   "outputs": [],
   "source": [
    "bit_limit = 10\n",
    "\n",
    "uniform_approx_samp = i4_sobol_generate(10, np.power(2, bit_limit), skip=1)\n",
    "normal_approx_samp = norm.ppf(uniform_approx_samp)\n",
    "\n",
    "train_tensor = tf.convert_to_tensor(train_data / 255., dtype=tf.float32)\n",
    "test_tensor = tf.convert_to_tensor(test_data / 255., dtype=tf.float32)"
   ]
  },
  {
   "cell_type": "code",
   "execution_count": 8,
   "metadata": {},
   "outputs": [
    {
     "data": {
      "text/plain": [
       "<tf.Tensor: id=678, shape=(), dtype=float32, numpy=20.457876>"
      ]
     },
     "execution_count": 8,
     "metadata": {},
     "output_type": "execute_result"
    }
   ],
   "source": [
    "q_mu, q_sigma = vae.encode(train_tensor[:1, ...])\n",
    "\n",
    "q_dist = tfd.Normal(loc=q_mu, scale=q_sigma)\n",
    "p_dist = tfd.Normal(loc=tf.zeros_like(q_mu), scale=tf.ones_like(q_sigma))\n",
    "\n",
    "total_kl = tf.reduce_sum(tfd.kl_divergence(q_dist, p_dist))\n",
    "\n",
    "K = total_kl + (3 if total_kl < 5 else 0)\n",
    "\n",
    "total_kl"
   ]
  },
  {
   "cell_type": "code",
   "execution_count": 9,
   "metadata": {},
   "outputs": [
    {
     "data": {
      "text/plain": [
       "<tf.Tensor: id=719, shape=(), dtype=int64, numpy=960>"
      ]
     },
     "execution_count": 9,
     "metadata": {},
     "output_type": "execute_result"
    }
   ],
   "source": [
    "posterior_log_prob = tf.reduce_sum(q_dist.log_prob(normal_approx_samp), axis=1)\n",
    "prior_log_prob = tf.reduce_sum(p_dist.log_prob(normal_approx_samp), axis=1)\n",
    "\n",
    "responsibilities = posterior_log_prob - prior_log_prob\n",
    "\n",
    "encoding_index = tf.random.categorical(logits=responsibilities[tf.newaxis, :], num_samples=1)[0, 0]\n",
    "\n",
    "encoding_index"
   ]
  },
  {
   "cell_type": "code",
   "execution_count": 10,
   "metadata": {},
   "outputs": [
    {
     "data": {
      "image/png": "[encoded data removed]",
      "text/plain": [
       "<Figure size 1224x432 with 3 Axes>"
      ]
     },
     "metadata": {
      "needs_background": "light"
     },
     "output_type": "display_data"
    }
   ],
   "source": [
    "approx_latent = normal_approx_samp[encoding_index, :]\n",
    "\n",
    "decoded_means = vae.decode(tf.convert_to_tensor(approx_latent[tf.newaxis, :], dtype=tf.float32))\n",
    "\n",
    "decoded_dist = tfd.Bernoulli(logits=decoded_means)\n",
    "\n",
    "plt.figure(figsize = (17, 6))\n",
    "plt.subplot(131)\n",
    "plt.title(\"Uncompressed\", fontsize=16)\n",
    "plt.imshow(decoded_dist.sample()[0])\n",
    "\n",
    "plt.subplot(132)\n",
    "plt.title(\"Reconstructed\", fontsize=16)\n",
    "plt.imshow(vae(train_tensor[:1, ...])[0])\n",
    "\n",
    "plt.subplot(133)\n",
    "plt.title(\"Original\", fontsize=16)\n",
    "plt.imshow(train_data[0])\n",
    "\n",
    "plt.show()"
   ]
  },
  {
   "cell_type": "code",
   "execution_count": null,
   "metadata": {},
   "outputs": [],
   "source": []
  }
 ],
 "metadata": {
  "kernelspec": {
   "display_name": "Python 3",
   "language": "python",
   "name": "python3"
  },
  "language_info": {
   "codemirror_mode": {
    "name": "ipython",
    "version": 3
   },
   "file_extension": ".py",
   "mimetype": "text/x-python",
   "name": "python",
   "nbconvert_exporter": "python",
   "pygments_lexer": "ipython3",
   "version": "3.7.1"
  }
 },
 "nbformat": 4,
 "nbformat_minor": 2
}
