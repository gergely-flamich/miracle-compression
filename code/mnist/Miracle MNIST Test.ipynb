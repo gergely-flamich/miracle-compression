{
 "cells": [
  {
   "cell_type": "code",
   "execution_count": 1,
   "metadata": {},
   "outputs": [
    {
     "name": "stdout",
     "output_type": "stream",
     "text": [
      "\n",
      "WARNING: The TensorFlow contrib module will not be included in TensorFlow 2.0.\n",
      "For more information, please see:\n",
      "  * https://github.com/tensorflow/community/blob/master/rfcs/20180907-contrib-sunset.md\n",
      "  * https://github.com/tensorflow/addons\n",
      "If you depend on functionality not listed there, please file an issue.\n",
      "\n"
     ]
    }
   ],
   "source": [
    "# This is needed so that python finds the utils\n",
    "import sys\n",
    "sys.path.append(\"/Users/gergelyflamich/Documents/Work/MLMI/miracle-compession/code\")\n",
    "\n",
    "import os\n",
    "import json\n",
    "from tqdm import tqdm\n",
    "import matplotlib.pyplot as plt\n",
    "\n",
    "# Needed for compression as the common source of randomness\n",
    "from sobol_seq import i4_sobol_generate\n",
    "import numpy as np\n",
    "from scipy.stats import norm\n",
    "\n",
    "import tensorflow as tf\n",
    "import tensorflow_probability as tfp\n",
    "tfd = tfp.distributions\n",
    "tf.enable_eager_execution()\n",
    "\n",
    "tfe = tf.contrib.eager\n",
    "tfs = tf.contrib.summary\n",
    "tfs_logger = tfs.record_summaries_every_n_global_steps\n",
    "\n",
    "from architectures import MnistFC_VAE, MnistFC_CNN_VAE, MnistCNN_VAE\n",
    "from experiment import mnist_input_fn, mnist_binary_parse_fn\n",
    "from utils import is_valid_file, setup_eager_checkpoints_and_restore\n",
    "\n",
    "MNIST_FC_MODEL = \"/tmp/miracle_mnist_bern_fc/\"\n",
    "MNIST_FC_CNN_MODEL = \"/tmp/miracle_mnist_bern_fc_cnn/\"\n",
    "MNIST_CNN_MODEL = \"/tmp/miracle_mnist_bern_cnn/\"\n",
    "\n",
    "MNIST_FC_CNN_GAUSS = \"/tmp/miracle_mnist_gauss_fc_cnn_no_batch/\"\n",
    "MNIST_FC_GAUSS = \"/tmp/miracle_mnist_gauss_fc_no_batch/\""
   ]
  },
  {
   "cell_type": "code",
   "execution_count": 2,
   "metadata": {},
   "outputs": [],
   "source": [
    "models = {\n",
    "    \"fc\": MnistFC_VAE,\n",
    "    \"fc_cnn\": MnistFC_CNN_VAE,\n",
    "    \"cnn\": MnistCNN_VAE\n",
    "}\n",
    "\n",
    "optimizers = {\n",
    "    \"sgd\": tf.train.GradientDescentOptimizer,\n",
    "    \"momentum\": lambda lr:\n",
    "                    tf.train.MomentumOptimizer(learning_rate=lr,\n",
    "                                               momentum=0.9,\n",
    "                                               use_nesterov=True),\n",
    "    \"adam\": tf.train.AdamOptimizer,\n",
    "    \"rmsprop\": tf.train.RMSPropOptimizer\n",
    "}\n",
    "\n",
    "config = {\n",
    "        \"training_set_size\": 60000,\n",
    "        \"max_pixel_value\": 1.,\n",
    "\n",
    "        \"num_latents\": 40,\n",
    "        \"hidden_units\": 300,\n",
    "        \"data_likelihood\": \"gaussian\",\n",
    "\n",
    "        \"batch_size\": 128,\n",
    "        \"num_epochs\": 20,\n",
    "\n",
    "        \"loss\": \"neg_elbo\",\n",
    "        \"beta\": 0.03,\n",
    "        \"learning_rate\": 1e-3,\n",
    "        \"optimizer\": \"adam\",\n",
    "\n",
    "        \"log_freq\": 250,\n",
    "        \"checkpoint_name\": \"_ckpt\",\n",
    "    }"
   ]
  },
  {
   "cell_type": "code",
   "execution_count": 3,
   "metadata": {},
   "outputs": [
    {
     "name": "stdout",
     "output_type": "stream",
     "text": [
      "WARNING:tensorflow:From /Users/gergelyflamich/Documents/Work/MLMI/miracle-compession/miracle_venv/lib/python3.7/site-packages/tensorflow/python/ops/resource_variable_ops.py:642: colocate_with (from tensorflow.python.framework.ops) is deprecated and will be removed in a future version.\n",
      "Instructions for updating:\n",
      "Colocations handled automatically by placer.\n",
      "Checkpoint found at /tmp/miracle_mnist_gauss_fc_cnn_no_batch/checkpoints/_ckpt-20, restoring...\n",
      "Model restored!\n"
     ]
    }
   ],
   "source": [
    "num_batches = config[\"training_set_size\"] // config[\"batch_size\"]\n",
    "\n",
    "((train_data, _),\n",
    "(test_data, _)) = tf.keras.datasets.mnist.load_data()\n",
    "\n",
    "train_dataset = mnist_input_fn(train_data[:num_batches * config[\"batch_size\"]],\n",
    "                               batch_size=config[\"batch_size\"])\n",
    "\n",
    "# ==========================================================================\n",
    "# Create VAE model\n",
    "# ==========================================================================\n",
    "\n",
    "vae = models[\"fc_cnn\"](hidden_units=config[\"hidden_units\"],\n",
    "               num_latents=config[\"num_latents\"],\n",
    "               data_likelihood=config[\"data_likelihood\"])\n",
    "\n",
    "# Connect the model computational graph by executing a forward-pass\n",
    "vae(tf.zeros((1, 28, 28)));\n",
    "\n",
    "# Batch norm shouldn't be fixed now\n",
    "vae.training_finished()\n",
    "\n",
    "# ==========================================================================\n",
    "# Define Checkpoints\n",
    "# ==========================================================================\n",
    "\n",
    "global_step = tf.train.get_or_create_global_step()\n",
    "\n",
    "trainable_vars = vae.get_all_variables() + (global_step,)\n",
    "checkpoint_dir = os.path.join(MNIST_FC_CNN_GAUSS, \"checkpoints\")\n",
    "\n",
    "checkpoint, ckpt_prefix = setup_eager_checkpoints_and_restore(\n",
    "    variables=trainable_vars,\n",
    "    checkpoint_dir=checkpoint_dir,\n",
    "    checkpoint_name=config[\"checkpoint_name\"])"
   ]
  },
  {
   "cell_type": "code",
   "execution_count": 54,
   "metadata": {},
   "outputs": [],
   "source": [
    "# use 4 blocks\n",
    "\n",
    "block_limit = 15\n",
    "block_size = 5\n",
    "num_blocks = 8\n",
    "\n",
    "uniform_approx_samp_block = i4_sobol_generate(block_size, np.power(2, block_limit), skip=1)\n",
    "normal_approx_samp_block = norm.ppf(uniform_approx_samp_block)\n",
    "\n",
    "train_tensor = tf.convert_to_tensor(train_data / 255., dtype=tf.float32)\n",
    "test_tensor = tf.convert_to_tensor(test_data / 255., dtype=tf.float32)"
   ]
  },
  {
   "cell_type": "code",
   "execution_count": 57,
   "metadata": {},
   "outputs": [
    {
     "name": "stdout",
     "output_type": "stream",
     "text": [
      "Block 0 KL: 7.18, \n",
      "Block 1 KL: 9.46, \n",
      "Block 2 KL: 6.87, \n",
      "Block 3 KL: 8.74, \n",
      "Block 4 KL: 8.15, \n",
      "Block 5 KL: 5.48, \n",
      "Block 6 KL: 8.17, \n",
      "Block 7 KL: 9.43, \n",
      "Total KL: 63.49, \n"
     ]
    },
    {
     "data": {
      "text/plain": [
       "[<tf.Tensor: id=14797, shape=(), dtype=int64, numpy=14380>,\n",
       " <tf.Tensor: id=14863, shape=(), dtype=int64, numpy=14740>,\n",
       " <tf.Tensor: id=14929, shape=(), dtype=int64, numpy=1067>,\n",
       " <tf.Tensor: id=14995, shape=(), dtype=int64, numpy=15786>,\n",
       " <tf.Tensor: id=15061, shape=(), dtype=int64, numpy=28386>,\n",
       " <tf.Tensor: id=15127, shape=(), dtype=int64, numpy=25041>,\n",
       " <tf.Tensor: id=15193, shape=(), dtype=int64, numpy=15804>,\n",
       " <tf.Tensor: id=15259, shape=(), dtype=int64, numpy=5937>]"
      ]
     },
     "execution_count": 57,
     "metadata": {},
     "output_type": "execute_result"
    }
   ],
   "source": [
    "q_mu, q_sigma = vae.encode(test_tensor[100:101, ...])\n",
    "\n",
    "encoding_indices = []\n",
    "total_kl = 0\n",
    "\n",
    "for block_idx in range(num_blocks):\n",
    "    \n",
    "    start = block_idx * block_size\n",
    "    end = (block_idx + 1) * block_size\n",
    "    \n",
    "    q_dist_block = tfd.Normal(loc=q_mu[:, start:end], scale=q_sigma[:, start:end])\n",
    "    p_dist_block = tfd.Normal(loc=tf.zeros_like(q_mu[:, start:end]), scale=tf.ones_like(q_sigma[:, start:end]))\n",
    "\n",
    "    block_kl = tf.reduce_sum(tfd.kl_divergence(q_dist_block, p_dist_block))\n",
    "    \n",
    "    total_kl += block_kl\n",
    "\n",
    "    print(\"Block {} KL: {:.2f}, \".format(block_idx, block_kl))\n",
    "\n",
    "    posterior_log_prob_block = tf.reduce_sum(q_dist_block.log_prob(normal_approx_samp_block), axis=1)\n",
    "    prior_log_prob_block = tf.reduce_sum(p_dist_block.log_prob(normal_approx_samp_block), axis=1)\n",
    "\n",
    "    responsibilities_block = posterior_log_prob_block - prior_log_prob_block\n",
    "\n",
    "    #encoding_index_block = tf.random.categorical(logits=responsibilities_block[tf.newaxis, :], num_samples=1)[0, 0]\n",
    "    encoding_index_block = tf.argmax(responsibilities_block)\n",
    "    \n",
    "    encoding_indices.append(encoding_index_block)\n",
    "\n",
    "print(\"Total KL: {:.2f}, \".format(total_kl))\n",
    "\n",
    "encoding_indices"
   ]
  },
  {
   "cell_type": "code",
   "execution_count": 58,
   "metadata": {},
   "outputs": [
    {
     "data": {
      "image/png": "[encoded data removed]",
      "text/plain": [
       "<Figure size 1224x432 with 3 Axes>"
      ]
     },
     "metadata": {
      "needs_background": "light"
     },
     "output_type": "display_data"
    }
   ],
   "source": [
    "approx_latent = np.concatenate(tuple(map(lambda idx: normal_approx_samp_block[idx, :], encoding_indices)), axis=-1)\n",
    "\n",
    "decoded_means = vae.decode(tf.convert_to_tensor(approx_latent[tf.newaxis, :], dtype=tf.float32))\n",
    "\n",
    "#decoded_dist = tfd.Normal(logits=decoded_means)\n",
    "\n",
    "plt.figure(figsize = (17, 6))\n",
    "plt.subplot(131)\n",
    "plt.title(\"Uncompressed \\n (Blocks {}) from {} bits\".format(num_blocks, num_blocks * block_limit), fontsize=16)\n",
    "plt.imshow(decoded_means)\n",
    "\n",
    "plt.subplot(132)\n",
    "plt.title(\"Reconstructed\", fontsize=16)\n",
    "#plt.imshow(np.ones_like(test_tensor[100]))\n",
    "plt.imshow(vae(test_tensor[100:101, ...]))\n",
    "\n",
    "plt.subplot(133)\n",
    "plt.title(\"Original\", fontsize=16)\n",
    "plt.imshow(test_data[100])\n",
    "\n",
    "plt.show()"
   ]
  },
  {
   "cell_type": "code",
   "execution_count": null,
   "metadata": {},
   "outputs": [],
   "source": []
  }
 ],
 "metadata": {
  "kernelspec": {
   "display_name": "Python 3",
   "language": "python",
   "name": "python3"
  },
  "language_info": {
   "codemirror_mode": {
    "name": "ipython",
    "version": 3
   },
   "file_extension": ".py",
   "mimetype": "text/x-python",
   "name": "python",
   "nbconvert_exporter": "python",
   "pygments_lexer": "ipython3",
   "version": "3.7.1"
  }
 },
 "nbformat": 4,
 "nbformat_minor": 2
}
